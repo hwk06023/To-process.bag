{
 "cells": [
  {
   "cell_type": "code",
   "execution_count": 1,
   "id": "fc684958",
   "metadata": {},
   "outputs": [],
   "source": [
    "import rosbag\n",
    "from std_msgs.msg import Int32, String"
   ]
  },
  {
   "cell_type": "code",
   "execution_count": 2,
   "id": "3f653736",
   "metadata": {},
   "outputs": [],
   "source": [
    "bag = rosbag.Bag('../data_bagfile/20220726_205541.bag') # load bag file"
   ]
  },
  {
   "cell_type": "code",
   "execution_count": 3,
   "id": "7cda56c4",
   "metadata": {},
   "outputs": [
    {
     "data": {
      "text/plain": [
       "<bound method Bag.close of <rosbag.bag.Bag object at 0x7f75fc263970>>"
      ]
     },
     "execution_count": 3,
     "metadata": {},
     "output_type": "execute_result"
    }
   ],
   "source": [
    "bag.close # free bag"
   ]
  },
  {
   "cell_type": "code",
   "execution_count": null,
   "id": "7194e31a",
   "metadata": {},
   "outputs": [],
   "source": []
  }
 ],
 "metadata": {
  "kernelspec": {
   "display_name": "Python 3.8.10 64-bit",
   "language": "python",
   "name": "python3"
  },
  "language_info": {
   "codemirror_mode": {
    "name": "ipython",
    "version": 3
   },
   "file_extension": ".py",
   "mimetype": "text/x-python",
   "name": "python",
   "nbconvert_exporter": "python",
   "pygments_lexer": "ipython3",
   "version": "3.8.10"
  },
  "vscode": {
   "interpreter": {
    "hash": "916dbcbb3f70747c44a77c7bcd40155683ae19c65e1c03b4aa3499c5328201f1"
   }
  }
 },
 "nbformat": 4,
 "nbformat_minor": 5
}
