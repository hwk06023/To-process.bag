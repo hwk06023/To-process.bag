{
 "cells": [
  {
   "cell_type": "code",
   "execution_count": 4,
   "id": "fc684958",
   "metadata": {},
   "outputs": [],
   "source": [
    "import rosbag, bagpy\n",
    "import pandas as pd\n",
    "import pyrealsense2 as rs\n",
    "import seaborn as sea\n",
    "import matplotlib.pyplot as plt\n",
    "import numpy as np\n",
    "from bagpy import bagreader\n",
    "from std_msgs.msg import Int32, String"
   ]
  },
  {
   "cell_type": "code",
   "execution_count": 2,
   "id": "3f653736",
   "metadata": {},
   "outputs": [],
   "source": [
    "bag = rosbag.Bag('../data_bagfile/20220726_205541.bag') # load bag file (rosbag)"
   ]
  },
  {
   "cell_type": "code",
   "execution_count": 5,
   "id": "a8169612",
   "metadata": {},
   "outputs": [
    {
     "name": "stdout",
     "output_type": "stream",
     "text": [
      "[INFO]  Successfully created the data folder ../data_bagfile/20220726_205541.\n"
     ]
    }
   ],
   "source": [
    "b = bagreader('../data_bagfile/20220726_205541.bag') # load bag file (bagpy)"
   ]
  },
  {
   "cell_type": "code",
   "execution_count": 3,
   "id": "7cda56c4",
   "metadata": {},
   "outputs": [],
   "source": [
    "for topic, msg, t in bag.read_messages(topics=['chatter', 'numbers']):\n",
    "    print(msg)"
   ]
  },
  {
   "cell_type": "code",
   "execution_count": 13,
   "id": "b4a8c3d5",
   "metadata": {},
   "outputs": [
    {
     "data": {
      "text/html": [
       "<div>\n",
       "<style scoped>\n",
       "    .dataframe tbody tr th:only-of-type {\n",
       "        vertical-align: middle;\n",
       "    }\n",
       "\n",
       "    .dataframe tbody tr th {\n",
       "        vertical-align: top;\n",
       "    }\n",
       "\n",
       "    .dataframe thead th {\n",
       "        text-align: right;\n",
       "    }\n",
       "</style>\n",
       "<table border=\"1\" class=\"dataframe\">\n",
       "  <thead>\n",
       "    <tr style=\"text-align: right;\">\n",
       "      <th></th>\n",
       "      <th>Topics</th>\n",
       "      <th>Types</th>\n",
       "      <th>Message Count</th>\n",
       "      <th>Frequency</th>\n",
       "    </tr>\n",
       "  </thead>\n",
       "  <tbody>\n",
       "    <tr>\n",
       "      <th>0</th>\n",
       "      <td>/device_0/info</td>\n",
       "      <td>diagnostic_msgs/KeyValue</td>\n",
       "      <td>13</td>\n",
       "      <td>NaN</td>\n",
       "    </tr>\n",
       "    <tr>\n",
       "      <th>1</th>\n",
       "      <td>/device_0/sensor_0/Depth_0/image/data</td>\n",
       "      <td>sensor_msgs/Image</td>\n",
       "      <td>178</td>\n",
       "      <td>14.987044</td>\n",
       "    </tr>\n",
       "    <tr>\n",
       "      <th>2</th>\n",
       "      <td>/device_0/sensor_0/Depth_0/image/metadata</td>\n",
       "      <td>diagnostic_msgs/KeyValue</td>\n",
       "      <td>4272</td>\n",
       "      <td>NaN</td>\n",
       "    </tr>\n",
       "    <tr>\n",
       "      <th>3</th>\n",
       "      <td>/device_0/sensor_0/Depth_0/info</td>\n",
       "      <td>realsense_msgs/StreamInfo</td>\n",
       "      <td>1</td>\n",
       "      <td>NaN</td>\n",
       "    </tr>\n",
       "    <tr>\n",
       "      <th>4</th>\n",
       "      <td>/device_0/sensor_0/Depth_0/info/camera_info</td>\n",
       "      <td>sensor_msgs/CameraInfo</td>\n",
       "      <td>1</td>\n",
       "      <td>NaN</td>\n",
       "    </tr>\n",
       "    <tr>\n",
       "      <th>...</th>\n",
       "      <td>...</td>\n",
       "      <td>...</td>\n",
       "      <td>...</td>\n",
       "      <td>...</td>\n",
       "    </tr>\n",
       "    <tr>\n",
       "      <th>102</th>\n",
       "      <td>/device_0/sensor_2/option/Frames_Queue_Size/de...</td>\n",
       "      <td>std_msgs/String</td>\n",
       "      <td>1</td>\n",
       "      <td>NaN</td>\n",
       "    </tr>\n",
       "    <tr>\n",
       "      <th>103</th>\n",
       "      <td>/device_0/sensor_2/option/Frames_Queue_Size/value</td>\n",
       "      <td>std_msgs/Float32</td>\n",
       "      <td>1</td>\n",
       "      <td>NaN</td>\n",
       "    </tr>\n",
       "    <tr>\n",
       "      <th>104</th>\n",
       "      <td>/device_0/sensor_2/option/Global_Time_Enabled/...</td>\n",
       "      <td>std_msgs/String</td>\n",
       "      <td>1</td>\n",
       "      <td>NaN</td>\n",
       "    </tr>\n",
       "    <tr>\n",
       "      <th>105</th>\n",
       "      <td>/device_0/sensor_2/option/Global_Time_Enabled/...</td>\n",
       "      <td>std_msgs/Float32</td>\n",
       "      <td>1</td>\n",
       "      <td>NaN</td>\n",
       "    </tr>\n",
       "    <tr>\n",
       "      <th>106</th>\n",
       "      <td>/file_version</td>\n",
       "      <td>std_msgs/UInt32</td>\n",
       "      <td>1</td>\n",
       "      <td>NaN</td>\n",
       "    </tr>\n",
       "  </tbody>\n",
       "</table>\n",
       "<p>107 rows × 4 columns</p>\n",
       "</div>"
      ],
      "text/plain": [
       "                                                Topics  \\\n",
       "0                                       /device_0/info   \n",
       "1                /device_0/sensor_0/Depth_0/image/data   \n",
       "2            /device_0/sensor_0/Depth_0/image/metadata   \n",
       "3                      /device_0/sensor_0/Depth_0/info   \n",
       "4          /device_0/sensor_0/Depth_0/info/camera_info   \n",
       "..                                                 ...   \n",
       "102  /device_0/sensor_2/option/Frames_Queue_Size/de...   \n",
       "103  /device_0/sensor_2/option/Frames_Queue_Size/value   \n",
       "104  /device_0/sensor_2/option/Global_Time_Enabled/...   \n",
       "105  /device_0/sensor_2/option/Global_Time_Enabled/...   \n",
       "106                                      /file_version   \n",
       "\n",
       "                         Types  Message Count  Frequency  \n",
       "0     diagnostic_msgs/KeyValue             13        NaN  \n",
       "1            sensor_msgs/Image            178  14.987044  \n",
       "2     diagnostic_msgs/KeyValue           4272        NaN  \n",
       "3    realsense_msgs/StreamInfo              1        NaN  \n",
       "4       sensor_msgs/CameraInfo              1        NaN  \n",
       "..                         ...            ...        ...  \n",
       "102            std_msgs/String              1        NaN  \n",
       "103           std_msgs/Float32              1        NaN  \n",
       "104            std_msgs/String              1        NaN  \n",
       "105           std_msgs/Float32              1        NaN  \n",
       "106            std_msgs/UInt32              1        NaN  \n",
       "\n",
       "[107 rows x 4 columns]"
      ]
     },
     "execution_count": 13,
     "metadata": {},
     "output_type": "execute_result"
    }
   ],
   "source": [
    "b.topic_table # Check available topics"
   ]
  },
  {
   "cell_type": "code",
   "execution_count": null,
   "id": "c7b9f52b",
   "metadata": {},
   "outputs": [],
   "source": []
  },
  {
   "cell_type": "code",
   "execution_count": null,
   "id": "1ab7e315",
   "metadata": {},
   "outputs": [],
   "source": []
  },
  {
   "cell_type": "code",
   "execution_count": 5,
   "id": "5ea4e8fb",
   "metadata": {},
   "outputs": [
    {
     "data": {
      "text/plain": [
       "<bound method Bag.close of <rosbag.bag.Bag object at 0x7f7bba548be0>>"
      ]
     },
     "execution_count": 5,
     "metadata": {},
     "output_type": "execute_result"
    }
   ],
   "source": [
    "bag.close # free bag"
   ]
  },
  {
   "cell_type": "code",
   "execution_count": null,
   "id": "7194e31a",
   "metadata": {},
   "outputs": [],
   "source": []
  },
  {
   "cell_type": "code",
   "execution_count": null,
   "id": "e00cff42",
   "metadata": {},
   "outputs": [],
   "source": []
  }
 ],
 "metadata": {
  "kernelspec": {
   "display_name": "Python 3.8.10 64-bit",
   "language": "python",
   "name": "python3"
  },
  "language_info": {
   "codemirror_mode": {
    "name": "ipython",
    "version": 3
   },
   "file_extension": ".py",
   "mimetype": "text/x-python",
   "name": "python",
   "nbconvert_exporter": "python",
   "pygments_lexer": "ipython3",
   "version": "3.8.10"
  },
  "vscode": {
   "interpreter": {
    "hash": "916dbcbb3f70747c44a77c7bcd40155683ae19c65e1c03b4aa3499c5328201f1"
   }
  }
 },
 "nbformat": 4,
 "nbformat_minor": 5
}
